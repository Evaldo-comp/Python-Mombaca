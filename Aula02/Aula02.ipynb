{
  "nbformat": 4,
  "nbformat_minor": 0,
  "metadata": {
    "colab": {
      "name": "Aula02.ipynb",
      "provenance": [],
      "collapsed_sections": []
    },
    "kernelspec": {
      "name": "python3",
      "display_name": "Python 3"
    }
  },
  "cells": [
    {
      "cell_type": "markdown",
      "metadata": {
        "id": "E6-1U5bvxF6G"
      },
      "source": [
        "# 1- Sintax\n",
        "Python possui algumas particularidades em comparação com outras linguagens, as principais diferenças  podem ser notadas no aprendizado de fundamentos da linguagem.\n",
        "* Funções\n",
        "* Identação\n",
        "* Variáveis\n",
        "* Comentários de uma e múltiplas linhas\n",
        "* Entrada e saída - (input e fstrings)\n",
        "* Strings\n",
        "* Operadores"
      ]
    },
    {
      "cell_type": "markdown",
      "metadata": {
        "id": "n5yt73vkwESD"
      },
      "source": [
        "## Funções:\n",
        "No decorrer da disciplina vamos nos aprofundar mais um pouco nas funções, para este momento  será necesaŕio entedermos a estrtura básica da mesma, pois iremos utilizá-la para a resolução de práticas fundamentais."
      ]
    },
    {
      "cell_type": "code",
      "metadata": {
        "id": "0q0PE0ULwolk"
      },
      "source": [
        "# Definição básica de uma função\n",
        "def quadrado(num):\n",
        "  return num ** 2\n",
        "\n",
        "print(quadrado(3))\n",
        "\n",
        "def nome(nome):\n",
        "  return nome\n",
        "\n",
        "nome(\"Evaldo\")"
      ],
      "execution_count": null,
      "outputs": []
    },
    {
      "cell_type": "markdown",
      "metadata": {
        "id": "mXKGxii90xpg"
      },
      "source": [
        "\n",
        "\n",
        "---\n",
        "\n"
      ]
    },
    {
      "cell_type": "markdown",
      "metadata": {
        "id": "jb0AMfRrAUOU"
      },
      "source": [
        "# Identação\n",
        "No python o bloco é delimitado apenas pela identação das sentenças, não utilizamos chaves como em outras linguagens. Não é uma boa prática misturar espaços com TAB para identar "
      ]
    },
    {
      "cell_type": "code",
      "metadata": {
        "id": "5DIGGZaWyzwD"
      },
      "source": [
        "# Identação\n",
        "if a < 2:\n",
        "    print(a)\n",
        "print(b)\n",
        "# OBS: Não misturar espaços com tabs, ou um, ou outro"
      ],
      "execution_count": null,
      "outputs": []
    },
    {
      "cell_type": "markdown",
      "metadata": {
        "id": "jb8jQlk4xwp8"
      },
      "source": [
        "\n",
        "\n",
        "---\n",
        "\n"
      ]
    },
    {
      "cell_type": "markdown",
      "metadata": {
        "id": "b2UI9MLm_UNG"
      },
      "source": [
        "##         Variáveis"
      ]
    },
    {
      "cell_type": "code",
      "metadata": {
        "id": "s8nhdExNwbV7"
      },
      "source": [
        "# Linguagem fracamente tipada\n",
        "a = 3\n",
        "b = \"Computação\"\n",
        "c = 3.5\n",
        "d = True\n",
        "e = None\n",
        "type(e)"
      ],
      "execution_count": null,
      "outputs": []
    },
    {
      "cell_type": "markdown",
      "metadata": {
        "id": "WLwTOnOo_sHv"
      },
      "source": [
        "## Nomeando variáveis\n",
        "\n",
        "* Devem ser claras e diretas\n",
        "* Evitar ambiguidades\n",
        "* Evitar nomes muito extensos\n",
        "* Evitar palavras chaves"
      ]
    },
    {
      "cell_type": "code",
      "metadata": {
        "id": "p62pZEAa6c83"
      },
      "source": [
        "\n",
        "\n",
        "#1valor = 12 # erro de sintax (nome iniciado com número)\n",
        "#v@lor = 12  # erro de sintaxe (nome com carctere especial)\n",
        "#classe = 12 #erro de sintaxe(utilização de palavras chaves do Python)\n",
        "\n",
        "\n",
        "\n",
        "base = 12\n",
        "base_maior = 24\n",
        "print(base_maior)\n"
      ],
      "execution_count": null,
      "outputs": []
    },
    {
      "cell_type": "markdown",
      "metadata": {
        "id": "u4dCwPrm8yEx"
      },
      "source": [
        "![keywords.png](data:image/png;base64,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)"
      ]
    },
    {
      "cell_type": "markdown",
      "metadata": {
        "id": "WX3bmQP7aJew"
      },
      "source": [
        "## Padronização na nomeação de variáveis:\n",
        "A comunidade segue alguns padrões para nomeação de variáveis com nomes compostos, esse padrão é um concenso da comundiade e não uma obrigação da sintaxe, e pode variar de linguagem para linguagem. Veja alguns exemplos"
      ]
    },
    {
      "cell_type": "code",
      "metadata": {
        "id": "N57YNssHamz6"
      },
      "source": [
        "# Camel Case: primeira palavra com inicial minúiscula e as demais com inicla mai´usucla\n",
        "minhaNotaSemestral  = 8.0  \n",
        "\n",
        "# Pascal Case: todas as palavras com inicial maiúscula\n",
        "MinhaNotaSemestral  = 8.0\n",
        "\n",
        "# Cada palavra ijnica com letra minúscula e são separadas por undescore\n",
        "minha_nota_semestral  = 8.0"
      ],
      "execution_count": null,
      "outputs": []
    },
    {
      "cell_type": "markdown",
      "metadata": {
        "id": "MKWIV2QU1Grm"
      },
      "source": [
        "\n",
        "\n",
        "---\n",
        "\n"
      ]
    },
    {
      "cell_type": "markdown",
      "metadata": {
        "id": "3G38whpJA-QH"
      },
      "source": [
        "# Comentários\n",
        "Os comentários podem ser de um ou mais múltiplas linhas\n",
        "para delimitar um cometários de uma linha usa-se o símbolo #\n",
        "para delimitar umcomentáiro de mútiplas linhas usa-se \"\"\" ou '''"
      ]
    },
    {
      "cell_type": "code",
      "metadata": {
        "id": "LLGkgWdNzOeY"
      },
      "source": [
        "#Comentários não são exibidos e não são compilados\n",
        "'''\n",
        "os comentários\n",
        "também podem ser de múltiplas\n",
        "linhas\n",
        "'''"
      ],
      "execution_count": null,
      "outputs": []
    },
    {
      "cell_type": "markdown",
      "metadata": {
        "id": "btj2cF8Y1NJr"
      },
      "source": [
        "\n",
        "\n",
        "---\n",
        "\n"
      ]
    },
    {
      "cell_type": "markdown",
      "metadata": {
        "id": "zKsFr4LwBjNe"
      },
      "source": [
        "# Entrada e saída\n",
        "Para receber um dado utilize a função ```input()```. Essa função por padrão retorna um dado do tipo string. Utilize a função ```type()``` para veirificar o tipo de dado"
      ]
    },
    {
      "cell_type": "code",
      "metadata": {
        "id": "FjtLKS1Bz5CH"
      },
      "source": [
        "# Entrada \n",
        "# por padrão o método input retorna um dado do tipo string\n",
        "\n",
        "nome = input(\"Digite seu nome\")\n",
        "type(nome)\n",
        "idade  =  input(\"Digite sua idade\")\n",
        "type(idade)"
      ],
      "execution_count": null,
      "outputs": []
    },
    {
      "cell_type": "markdown",
      "metadata": {
        "id": "gRCZ9ahcZeZQ"
      },
      "source": [
        "## Casting\n",
        "O valor de uma variável pode ser alterado utilzando uam conversão de tipo de chamamos de casting"
      ]
    },
    {
      "cell_type": "code",
      "metadata": {
        "id": "6HLTQ0tC2Wz3"
      },
      "source": [
        "# Para que o dado de outro tipo seja coletado, é necessário fazer a conversão no ato da entrada\n",
        "idade = int(input(\"digite sua idade\"))\n",
        "type(idade)\n",
        "altura = float(input(\"Digite sua altura\"))"
      ],
      "execution_count": null,
      "outputs": []
    },
    {
      "cell_type": "code",
      "metadata": {
        "id": "zGzDJfhK04xq"
      },
      "source": [
        "# Saída\n",
        "print(nome)\n",
        "# Saída simples cotatenando a string com a variável\n",
        "print(\"Meu nome é : \", nome)\n",
        "# A função format é utilizada para expecificar algum comportamento da saída\n",
        "print(\"Meu nome é {} e minha altura é {}\".format(nome, altura) )\n",
        "# Teste com a função format\n",
        "t = input(\"Digite uma frase\\n\")\n",
        "# Testes com format()\n",
        "print(\"{0:>100}\".format(t))  # Alinha a esquerda\n",
        "print(\"{0:@>100}\".format(t)) # Alinha a esquerda sem espaços\n",
        "print(\"{0:^100}\".format(t))  # Centraliza\n",
        "print(\"{0:.^100}\".format(t)) # Centraliza sem espaços\n",
        "# Utilizando f'strings\n",
        "print(f\"Meu nome é {nome} e eu tenho {altura} de altura\")"
      ],
      "execution_count": null,
      "outputs": []
    },
    {
      "cell_type": "markdown",
      "metadata": {
        "id": "7g4-J-M92GR6"
      },
      "source": [
        "\n",
        "\n",
        "---\n",
        "\n"
      ]
    },
    {
      "cell_type": "markdown",
      "metadata": {
        "id": "kTNwWEIqDnEE"
      },
      "source": [
        "# Prática"
      ]
    },
    {
      "cell_type": "code",
      "metadata": {
        "id": "DfOR3-aUCmgm"
      },
      "source": [
        "# Faça três funções que retornem respectivamente (Nome , idade, Estado civil, genero)"
      ],
      "execution_count": null,
      "outputs": []
    },
    {
      "cell_type": "markdown",
      "metadata": {
        "id": "KpG9VXRu2HuZ"
      },
      "source": [
        "\n",
        "\n",
        "---\n",
        "\n"
      ]
    },
    {
      "cell_type": "markdown",
      "metadata": {
        "id": "CHXHIfRPGB3F"
      },
      "source": [
        "# 2. Operações, Operadores e operandos \n",
        "* Aritmétcos\n",
        "* Atribuição\n",
        "* Comparação\n",
        "* Lógicos\n",
        "* Relacionais\n",
        "O python utiliza quase todos os operadores mantemáticos com algumas exceções"
      ]
    },
    {
      "cell_type": "markdown",
      "metadata": {
        "id": "MvSn8n1OEcy4"
      },
      "source": [
        "##  Operadores Aritméticos \n"
      ]
    },
    {
      "cell_type": "code",
      "metadata": {
        "id": "X0Z78JnoHIDW"
      },
      "source": [
        "# Adição +\n",
        "2 + 2\n",
        "\"Evaldo\" + \" Pereira\"\n",
        "\"K\" * 7\n",
        "# Divisão / ou //\n",
        "4 /2\n",
        "# Subtração - \n",
        "10 -8\n",
        "# Multiplicação\n",
        "3 * 4\n",
        "# Divisão / ou //\n",
        "4 /2 \n",
        "# Módulo %\n",
        "9  % 3\n",
        "# potencia **\n",
        "2 ** 2"
      ],
      "execution_count": null,
      "outputs": []
    },
    {
      "cell_type": "markdown",
      "metadata": {
        "id": "3q8lwurB3DJD"
      },
      "source": [
        "## Operadores de Atribuição: \n",
        "Utilizados para atribuir um valor a um operando"
      ]
    },
    {
      "cell_type": "code",
      "metadata": {
        "id": "3qpzXLGG3Lr2"
      },
      "source": [
        "num1 = 2\n",
        "num2 = 3\n",
        "\n",
        "num1 = num2\n",
        "print(num1)\n",
        "\n",
        "num1 +=  num2\n",
        "print(num1)\n",
        "\n",
        "num1 -= num2\n",
        "print(num1)\n",
        "\n",
        "num1 *= num2\n",
        "print(num1)\n",
        "\n",
        "num1 /= num2\n",
        "print(num1)\n",
        "\n",
        "num1 %= num2\n",
        "print(num1)\n",
        "\n",
        "num1 **= num2\n",
        "print(num1)"
      ],
      "execution_count": null,
      "outputs": []
    },
    {
      "cell_type": "markdown",
      "metadata": {
        "id": "JLb3_Q1KRnwc"
      },
      "source": [
        "## Operadores de Comparação\n",
        "Comparam dois valores retornando um tipo de dado booleano\n"
      ]
    },
    {
      "cell_type": "code",
      "metadata": {
        "id": "RR5dLwVD4Re6"
      },
      "source": [
        "num3 = 6\n",
        "num4 = 7\n",
        "\n",
        "print(num3 == num4) # igualdade\n",
        "\n",
        "print(num3 != num4) # diferença\n",
        "\n",
        "print(num3 >= num4) # Maior ou igual\n",
        "\n",
        "print(num3 <= num4) # menor ou igual\n",
        "\n",
        "print(num3 > num4) # Maior\n",
        "\n",
        "print(num3 < num4) # Menor"
      ],
      "execution_count": null,
      "outputs": []
    },
    {
      "cell_type": "markdown",
      "metadata": {
        "id": "2W-Q1XrDFLqY"
      },
      "source": [
        "## Operadores Lógicos\n",
        "São três:\n",
        "\n",
        "**and:** que retorna True se os dois operandos forem verdadeiros\n",
        "\n",
        "**or :** que retorna False se os dois operandos forem Falsos\n",
        "\n",
        "**not:**  que retorna  anegação da sentença"
      ]
    },
    {
      "cell_type": "code",
      "metadata": {
        "id": "o9aARfSVH7Q2"
      },
      "source": [
        "# Operadores lógicos\n",
        "num5 = 2\n",
        "num6 = 3\n",
        "(a % 2 == 0) or (a % 2 != 0) # disjunção\n",
        "(a % 2 == 0) and (a % 2 != 0) # disjunção\n",
        "not (True) #negação"
      ],
      "execution_count": null,
      "outputs": []
    },
    {
      "cell_type": "markdown",
      "metadata": {
        "id": "U5TbXrkSBlqV"
      },
      "source": [
        "## Operadores de associação\n",
        "Servem para verificar a ocorrência de determinado elemento dentro de um objeto"
      ]
    },
    {
      "cell_type": "code",
      "metadata": {
        "id": "TipZDIljBv2V"
      },
      "source": [
        "nome = \"Francisco Evaldo\"\n",
        "\"F\" in nome\n",
        "\"f\" not in nome"
      ],
      "execution_count": null,
      "outputs": []
    },
    {
      "cell_type": "markdown",
      "metadata": {
        "id": "QE5vwJGRDzQN"
      },
      "source": [
        "\n",
        "\n",
        "---\n",
        "\n"
      ]
    }
  ]
}