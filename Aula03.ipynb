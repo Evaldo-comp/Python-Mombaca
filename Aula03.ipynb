{
  "nbformat": 4,
  "nbformat_minor": 0,
  "metadata": {
    "colab": {
      "name": "Aula03.ipynb",
      "provenance": [],
      "authorship_tag": "ABX9TyPVmZh5Q9L+NuDF+jpUr2wX",
      "include_colab_link": true
    },
    "kernelspec": {
      "name": "python3",
      "display_name": "Python 3"
    }
  },
  "cells": [
    {
      "cell_type": "markdown",
      "metadata": {
        "id": "view-in-github",
        "colab_type": "text"
      },
      "source": [
        "<a href=\"https://colab.research.google.com/github/Evaldo-comp/Python-Mombaca/blob/main/Aula03.ipynb\" target=\"_parent\"><img src=\"https://colab.research.google.com/assets/colab-badge.svg\" alt=\"Open In Colab\"/></a>"
      ]
    },
    {
      "cell_type": "markdown",
      "metadata": {
        "id": "3JYfiHooMJeK"
      },
      "source": [
        "# Aula03: - Decisões e Repetições\n",
        "* Condicionais\n",
        " * If\n",
        " * else\n",
        " * Aninhados\n",
        " * elif\n",
        "* Repetições\n",
        " * Contadores\n",
        " * Acumuladores\n",
        " * While\n",
        " * for\n",
        "\n"
      ]
    },
    {
      "cell_type": "markdown",
      "metadata": {
        "id": "Zv1rMQENOASs"
      },
      "source": [
        "## Condicionais\n",
        "As condicionais são estrutas que servem para tomar decisões com base em algum argumento. a estrutura básica de uma condicional é a seguinte:\n",
        "```\n",
        "if <condição>:\n",
        "       bloco verdadeiro executado\n",
        "```\n",
        "* Um conteúdo para estar dentro de uma condição, deve estar identado de forma que todas as sentença estejam dentro desse bloco, ou seja, 4 espaços recuados à direita.\n",
        "\n",
        "```\n",
        "if <condição>:\n",
        "       bloco verdadeiro executado # trecho dentro do if\n",
        "bloco extra  # trecho fora do if\n",
        "```\n",
        "\n"
      ]
    },
    {
      "cell_type": "code",
      "metadata": {
        "colab": {
          "base_uri": "https://localhost:8080/"
        },
        "id": "F94t6acEPznd",
        "outputId": "8a738604-b8f3-448d-df6d-4f1ba1f1c921"
      },
      "source": [
        "# Exemplo 01\n",
        "a = 1\n",
        "if a > 2:\n",
        "  print(\"A é maior do que dois\")\n",
        "\n",
        "# Exemplo 02\n",
        "if a % 2 == 0 :\n",
        "  print(\"a é par\")"
      ],
      "execution_count": null,
      "outputs": [
        {
          "output_type": "stream",
          "text": [
            "a é par\n"
          ],
          "name": "stdout"
        }
      ]
    },
    {
      "cell_type": "markdown",
      "metadata": {
        "id": "yexUw-rTQcN7"
      },
      "source": [
        "* Para que o programa responda a uma codicional falsa, acresecenta a clausula **else**  após o if:\n",
        "```\n",
        "if<condição>:\n",
        "      bloco verdadeiro\n",
        "else:\n",
        "      bloco falso\n",
        "\n",
        "```\n",
        "\n",
        "*"
      ]
    },
    {
      "cell_type": "code",
      "metadata": {
        "colab": {
          "base_uri": "https://localhost:8080/"
        },
        "id": "aTl9W-XuRPJh",
        "outputId": "0ac8c809-134d-4293-e8e8-d8b6ae4917d3"
      },
      "source": [
        "# Exemplo \n",
        "b = 2\n",
        "if b % 2 == 0 :\n",
        "  print(\"b é par\")\n",
        "else:\n",
        "  print(\"b é impar\")"
      ],
      "execution_count": null,
      "outputs": [
        {
          "output_type": "stream",
          "text": [
            "b é par\n"
          ],
          "name": "stdout"
        }
      ]
    },
    {
      "cell_type": "markdown",
      "metadata": {
        "id": "a-wm0CEvRp-U"
      },
      "source": [
        "* Também é possível colocar um if dentro de outro if, é o que chamados de estrutura **aninhada**"
      ]
    },
    {
      "cell_type": "code",
      "metadata": {
        "colab": {
          "base_uri": "https://localhost:8080/"
        },
        "id": "tHGKo7IRR4cP",
        "outputId": "2d392dbe-e1bf-45f8-eee9-72733e457671"
      },
      "source": [
        "# Exemplo: Receba um número do usuário e descubra se ele é negativo, positivo ou igual a 0\n",
        "num = int(input(\"Número: \\n\"))\n",
        "\n",
        "if (num > 0):\n",
        "  print(f'{num} é positivo')\n",
        "else:\n",
        "   if (num < 0):\n",
        "      print(f\"{num} é negativo\\n\")\n",
        "   else:\n",
        "     print(f\"{num} é igual a 0\\n\")"
      ],
      "execution_count": null,
      "outputs": [
        {
          "output_type": "stream",
          "text": [
            "Número: \n",
            "0\n",
            "0 é igual a 0\n",
            "\n"
          ],
          "name": "stdout"
        }
      ]
    },
    {
      "cell_type": "markdown",
      "metadata": {
        "id": "-DYFj0KpStlK"
      },
      "source": [
        "* podemos simplificar a escrita de estruturas aninhadas utilizando o **elif**"
      ]
    },
    {
      "cell_type": "code",
      "metadata": {
        "colab": {
          "base_uri": "https://localhost:8080/"
        },
        "id": "Y7wcOrfmP4qM",
        "outputId": "cf5f0713-1489-490b-debc-d1b0afe40cd9"
      },
      "source": [
        "# Exemplo: Receba um número do usuário e descubra se ele é negativo, positivo ou igual a 0(elif)\n",
        "num = int(input(\"Número: \\n\"))\n",
        "\n",
        "if (num > 0):\n",
        "  print(f'{num} é positivo')\n",
        "elif (num < 0):\n",
        "      print(f\"{num} é negativo\\n\")\n",
        "else:\n",
        "     print(f\"{num} é igual a 0\\n\")"
      ],
      "execution_count": null,
      "outputs": [
        {
          "output_type": "stream",
          "text": [
            "Número: \n",
            "0\n",
            "0 é igual a 0\n",
            "\n"
          ],
          "name": "stdout"
        }
      ]
    },
    {
      "cell_type": "markdown",
      "metadata": {
        "id": "cAnqJDrwTJYs"
      },
      "source": [
        "## Prática \n",
        "Escreva um programa que receba a categoria e o preço de um produto. a categoria  varia de 1 a 5, cada categoria tem um desconto especifico, você deve aplicar esse desconto no preço do produto e retornar o valor com desconto<p>\n",
        "![tabela2.png](data:image/png;base64,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)"
      ]
    },
    {
      "cell_type": "code",
      "metadata": {
        "colab": {
          "base_uri": "https://localhost:8080/"
        },
        "id": "N5DfqXxxS8L4",
        "outputId": "447fcde5-881e-4057-d6d2-edb3efe69db4"
      },
      "source": [
        "preco = float(input(\"Preço: \\n\"))\n",
        "categoria = int(input(\"Categoria: \\n\"))\n",
        "\n",
        "if (categoria == 1):\n",
        "  preco_com_desconto = preco - (preco * 0.05)\n",
        "  print(f\"Foi aplicado um desconto de 5%, você pagará R$ {preco_com_desconto:.2f} Reais\")\n",
        "elif (categoria == 2):\n",
        "  preco_com_desconto = preco - (preco * 0.07)\n",
        "  print(f\"Foi aplicado um desconto de 7%, você pagará R$ {preco_com_desconto:.2f} Reais\")\n",
        "elif (categoria == 3):\n",
        "  preco_com_desconto = preco - (preco * 0.10)\n",
        "  print(f\"Foi aplicado um desconto de 10%, você pagará R$ {preco_com_desconto:.2f} Reais\")\n",
        "elif (categoria == 4):\n",
        "  preco_com_desconto = preco - (preco * 0.15)\n",
        "  print(f\"Foi aplicado um desconto de 15%, você pagará R$ {preco_com_desconto:.2f} Reais\")\n",
        "elif (categoria == 5):\n",
        "  preco_com_desconto = preco - (preco * 0.20)\n",
        "  print(f\"Foi aplicado um desconto de 20%, você pagará R$ {preco_com_desconto:.2f} Reais\")\n",
        "else: \n",
        "  print(\"Categoria inválida. por favor insira um número de 1 a 5\")"
      ],
      "execution_count": null,
      "outputs": [
        {
          "output_type": "stream",
          "text": [
            "Preço: \n",
            "12.00\n",
            "Categoria: \n",
            "9\n",
            "Categoria inválida. por favor insira um número de 1 a 5\n"
          ],
          "name": "stdout"
        }
      ]
    },
    {
      "cell_type": "code",
      "metadata": {
        "id": "AZMJg13lcdLe"
      },
      "source": [
        "# Escreva um programa que leia dois números e que pergunte qual operação você deseja realizar. \n",
        "#     Você deve poder calcular soma, suntração, multiplicação e dicisão. Exiba o resultado da operação solcitada\n",
        "# Nilo pg: 79, 80 e 83"
      ],
      "execution_count": null,
      "outputs": []
    },
    {
      "cell_type": "markdown",
      "metadata": {
        "id": "X5SQzyEVcVN2"
      },
      "source": [
        "escreva um programa"
      ]
    },
    {
      "cell_type": "markdown",
      "metadata": {
        "id": "swyT3tAaesVb"
      },
      "source": [
        "# Repetições\n",
        "\n",
        "As repetições servem para executar determinadas instruções até que um elemento atinja um valor predeterminado pelo desenvolvedor. \n",
        "A primeira estrutura de reptição que vamos ver é o while, que possui a seguinte estrutura:\n",
        "```\n",
        "while<condição>:\n",
        "    bloco\n",
        "```\n",
        "\n",
        "Exemplo de implementação da estrutura:\n",
        "```\n",
        "x = 1\n",
        "while x <= 3:\n",
        "    print(x)\n",
        "    x = x + 1\n",
        "  ```\n",
        "* Contadores:\n",
        "Para que uma estrutura de repetição exiba somete a quantidade certa de operações desejadas pelo desenvovledor, utiliza-se uma varivel que faz o controle destas repetições, essa variavel é incrementada ou decrementada a cada execução e chama-se **Contador**\n"
      ]
    },
    {
      "cell_type": "markdown",
      "metadata": {
        "id": "jxBwSbcff02C"
      },
      "source": [
        "# Prática\n",
        "Faça um programa que imprima a os números pares entre 20 e 55"
      ]
    },
    {
      "cell_type": "code",
      "metadata": {
        "id": "pkoNA7qkV5C4",
        "colab": {
          "base_uri": "https://localhost:8080/"
        },
        "outputId": "9bb4c39e-a8a3-46bb-e604-204de5467f1a"
      },
      "source": [
        "x = 20\n",
        "while(x <= 55):\n",
        "  if(x % 2 == 0):\n",
        "    print(x)\n",
        "  x+=1"
      ],
      "execution_count": null,
      "outputs": [
        {
          "output_type": "stream",
          "text": [
            "20\n",
            "22\n",
            "24\n",
            "26\n",
            "28\n",
            "30\n",
            "32\n",
            "34\n",
            "36\n",
            "38\n",
            "40\n",
            "42\n",
            "44\n",
            "46\n",
            "48\n",
            "50\n",
            "52\n",
            "54\n"
          ],
          "name": "stdout"
        }
      ]
    },
    {
      "cell_type": "markdown",
      "metadata": {
        "id": "9pxJa4V8hMWH"
      },
      "source": [
        "Faça um programa que imprima os ímpares dentro de um intervalo inserido pelo usuário "
      ]
    },
    {
      "cell_type": "code",
      "metadata": {
        "colab": {
          "base_uri": "https://localhost:8080/"
        },
        "id": "3FCAluo9gOpn",
        "outputId": "f36187bf-b81c-4724-b4de-3b0af229faa5"
      },
      "source": [
        "inicio = int(input(\"Início: \\n\"))\n",
        "fim = int(input(\"Fim: \\n\"))\n",
        "contador =inicio\n",
        "while (contador <= fim):\n",
        "  if (contador % 2 != 0):\n",
        "    print(contador)\n",
        "  contador+=1"
      ],
      "execution_count": null,
      "outputs": [
        {
          "output_type": "stream",
          "text": [
            "Início: \n",
            "56\n",
            "Fim: \n",
            "100\n",
            "57\n",
            "59\n",
            "61\n",
            "63\n",
            "65\n",
            "67\n",
            "69\n",
            "71\n",
            "73\n",
            "75\n",
            "77\n",
            "79\n",
            "81\n",
            "83\n",
            "85\n",
            "87\n",
            "89\n",
            "91\n",
            "93\n",
            "95\n",
            "97\n",
            "99\n"
          ],
          "name": "stdout"
        }
      ]
    },
    {
      "cell_type": "markdown",
      "metadata": {
        "id": "QA0BKih4jJo8"
      },
      "source": [
        "* Acumuladores:\n",
        "As estruturas de repetição também utilizam **Acumuladores**, a principal diferença entre os acumuladores e os contadores, é que no primeiro o valor adicionado é variável, já no segundo, o valor incrementado ou decrementado é constante.\n",
        "** Exemplo:\n"
      ]
    },
    {
      "cell_type": "code",
      "metadata": {
        "colab": {
          "base_uri": "https://localhost:8080/"
        },
        "id": "h-tdOPqdh3_X",
        "outputId": "7312ab29-6b60-47e6-81f0-b4ac6ad93668"
      },
      "source": [
        "# Exemplo: programa que calcula a soma de 10 números\n",
        "n = 1\n",
        "soma = 0\n",
        "while n <= 10:\n",
        "  x = int(input(f\"Digite o {n} número\\n \"))\n",
        "  soma = soma + x\n",
        "  n = n + 1\n",
        "print(f\"Soma: {soma}\\n\")\n",
        "\n"
      ],
      "execution_count": null,
      "outputs": [
        {
          "output_type": "stream",
          "text": [
            "Digite o 1 número\n",
            " 1\n",
            "Digite o 2 número\n",
            " 1\n",
            "Digite o 3 número\n",
            " 1\n",
            "Digite o 4 número\n",
            " 1\n",
            "Digite o 5 número\n",
            " 1\n",
            "Digite o 6 número\n",
            " 1\n",
            "Digite o 7 número\n",
            " 1\n",
            "Digite o 8 número\n",
            " 1\n",
            "Digite o 9 número\n",
            " 1\n",
            "Digite o 10 número\n",
            " 1\n",
            "Soma: 10\n",
            "\n"
          ],
          "name": "stdout"
        }
      ]
    },
    {
      "cell_type": "markdown",
      "metadata": {
        "id": "Y4VGe73jlbF2"
      },
      "source": [
        "# Prática\n",
        "Escreva um programa leia números inteiros do teclado, até que o 0 seja digitado, e na saída ele deve imprimir a soma dos números pares e a soma dos números ímpares inseridos bem como a quantidade de pares e ímpares."
      ]
    },
    {
      "cell_type": "code",
      "metadata": {
        "colab": {
          "base_uri": "https://localhost:8080/"
        },
        "id": "psUW_jFzknMh",
        "outputId": "6b39f0bb-e4ce-4d38-c1d8-62b23d58e077"
      },
      "source": [
        "somaPares = 0\n",
        "qtdPares = 0\n",
        "somaImpares = 0\n",
        "qtdImpares = 0\n",
        "\n",
        "while True:\n",
        "  num = int(input(\"Número: \\n\"))\n",
        "  if num == 0:\n",
        "    break\n",
        "  elif num % 2 == 0:\n",
        "    somaPares += num;\n",
        "    qtdPares += 1\n",
        "  else:\n",
        "    somaImpares += num;\n",
        "    qtdImpares +=1\n",
        "print(f\"Quantidade de Pares:{qtdPares}. Soma de pares: {somaPares}\")\n",
        "print(f\"Quantidade de Ímpares:{qtdImpares}. Soma de Ímpares: {somaImpares}\")\n",
        "  \n"
      ],
      "execution_count": null,
      "outputs": [
        {
          "output_type": "stream",
          "text": [
            "Número: \n",
            "1\n",
            "Número: \n",
            "2\n",
            "Número: \n",
            "3\n",
            "Número: \n",
            "4\n",
            "Número: \n",
            "0\n",
            "Quantidade de Pares:2. Soma de pares: 6\n",
            "Quantidade de Ímpares:2. Soma de Ímpares: 4\n"
          ],
          "name": "stdout"
        }
      ]
    },
    {
      "cell_type": "markdown",
      "metadata": {
        "id": "1DGmMsbgxn2p"
      },
      "source": [
        "* FOR: O for é uma estrutura de repetição que no python é mai comumente utilizada para manipula percorrer listas:\n",
        "```\n",
        "lista = [1, 2, 3, 4, 5]\n",
        "for i in lista:\n",
        "    print(i)\n",
        "```\n",
        "O ***for*** não substitui o ***while*** em qualquer implementação. Como já foi dito, o for é mais utilizado pra trabalhar com listas, já o while utiliza-se normalmente quando não sabemos a quantidade de vezes que a repetição irá ocorrer."
      ]
    },
    {
      "cell_type": "code",
      "metadata": {
        "colab": {
          "base_uri": "https://localhost:8080/"
        },
        "id": "8Hon9ltgmskX",
        "outputId": "1c451a3e-04ba-4e29-98e0-f2393df24ce7"
      },
      "source": [
        " # Exemplo: Buscar um elemento em uma lista\n",
        " L = [\"Marcelo\", \"Dayane\", \"Lucas\"]\n",
        " p = input(\"Digite o nome de uma aluno\")\n",
        " indice = 0\n",
        " for i in L:\n",
        "   if i.upper() == p.upper():\n",
        "     indice +=1\n",
        "     print(f\"Elemento {i} econtrado no indice {indice}\")\n",
        "     break\n",
        "   else:\n",
        "      print(f\"elemento não encontrado \")\n"
      ],
      "execution_count": null,
      "outputs": [
        {
          "output_type": "stream",
          "text": [
            "Digite o nome de uma alunomarcelo\n",
            "Elemento Marcelo econtrado no indice1\n"
          ],
          "name": "stdout"
        }
      ]
    },
    {
      "cell_type": "code",
      "metadata": {
        "id": "9yKOkJInzQnh"
      },
      "source": [
        ""
      ],
      "execution_count": null,
      "outputs": []
    }
  ]
}